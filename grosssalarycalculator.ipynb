{
 "cells": [
  {
   "cell_type": "code",
   "execution_count": 13,
   "metadata": {},
   "outputs": [
    {
     "name": "stdout",
     "output_type": "stream",
     "text": [
      "basic salary: 50000\n",
      "HRA: 2500.0\n",
      "DA: 5000.0\n",
      "Gross _ salary: 57500.0\n"
     ]
    }
   ],
   "source": [
    "# Gross Salary calculation\n",
    "bs = 50000\n",
    "HRA = 0.05 * bs\n",
    "DA = 0.1 * bs\n",
    "GS = bs + HRA + DA\n",
    "print(\"basic salary:\",bs)\n",
    "print(\"HRA:\",HRA)\n",
    "print(\"DA:\",DA)\n",
    "print(\"Gross _ salary:\",GS)\n",
    "\n",
    "    "
   ]
  }
 ],
 "metadata": {
  "kernelspec": {
   "display_name": "Python 3",
   "language": "python",
   "name": "python3"
  },
  "language_info": {
   "codemirror_mode": {
    "name": "ipython",
    "version": 3
   },
   "file_extension": ".py",
   "mimetype": "text/x-python",
   "name": "python",
   "nbconvert_exporter": "python",
   "pygments_lexer": "ipython3",
   "version": "3.13.3"
  }
 },
 "nbformat": 4,
 "nbformat_minor": 2
}
