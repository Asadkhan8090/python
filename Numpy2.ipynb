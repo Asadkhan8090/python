{
 "cells": [
  {
   "cell_type": "markdown",
   "id": "f2e6a18e",
   "metadata": {},
   "source": [
    "Num py ek python library hai \n",
    "jo math or scitific colobration easily learn krta hai\n",
    "ye mostly array ke sath kaam karti hai"
   ]
  },
  {
   "cell_type": "code",
   "execution_count": 75,
   "id": "ef494227",
   "metadata": {},
   "outputs": [],
   "source": [
    "import numpy as np"
   ]
  },
  {
   "cell_type": "code",
   "execution_count": 76,
   "id": "649431ef",
   "metadata": {},
   "outputs": [
    {
     "name": "stdout",
     "output_type": "stream",
     "text": [
      "[1 2 3 4 5 6 7 8]\n",
      "[8 7 6 5 4 3 2 1]\n"
     ]
    }
   ],
   "source": [
    "a = np.array([1,2,3,4,5,6,7,8])\n",
    "b = np.array([8,7,6,5,4,3,2,1])\n",
    "print(a)\n",
    "print(b)\n"
   ]
  },
  {
   "cell_type": "code",
   "execution_count": 77,
   "id": "60e8f89d",
   "metadata": {},
   "outputs": [
    {
     "data": {
      "text/plain": [
       "numpy.ndarray"
      ]
     },
     "execution_count": 77,
     "metadata": {},
     "output_type": "execute_result"
    }
   ],
   "source": [
    "type(a)"
   ]
  },
  {
   "cell_type": "code",
   "execution_count": 78,
   "id": "5a760762",
   "metadata": {},
   "outputs": [
    {
     "name": "stdout",
     "output_type": "stream",
     "text": [
      "[9 9 9 9 9 9 9 9]\n",
      "[-7 -5 -3 -1  1  3  5  7]\n",
      "[ 8 14 18 20 20 18 14  8]\n"
     ]
    }
   ],
   "source": [
    "print(a + b)\n",
    "print(a - b)\n",
    "print(a * b)"
   ]
  },
  {
   "cell_type": "code",
   "execution_count": 79,
   "id": "e7a40edb",
   "metadata": {},
   "outputs": [
    {
     "name": "stdout",
     "output_type": "stream",
     "text": [
      "[[1 2 3]\n",
      " [4 5 6]]\n"
     ]
    }
   ],
   "source": [
    "# crate a 2D array\n",
    "a2 = np.array([[1,2,3],[4,5,6]])\n",
    "print(a2)"
   ]
  },
  {
   "cell_type": "code",
   "execution_count": 80,
   "id": "c67b4245",
   "metadata": {},
   "outputs": [
    {
     "name": "stdout",
     "output_type": "stream",
     "text": [
      "[[[1 2]\n",
      "  [3 4]]\n",
      "\n",
      " [[5 6]\n",
      "  [7 8]]]\n"
     ]
    }
   ],
   "source": [
    "# creating a 3D array\n",
    "a3 = np.array([[[1,2],[3,4]],[[5,6],[7,8]]])\n",
    "print(a3)"
   ]
  },
  {
   "cell_type": "code",
   "execution_count": 81,
   "id": "3210a4ee",
   "metadata": {},
   "outputs": [
    {
     "name": "stdout",
     "output_type": "stream",
     "text": [
      "(2, 3)\n"
     ]
    }
   ],
   "source": [
    "print(a2.shape)# ye line batati hai array a2 ka shape yaani rows and columns"
   ]
  },
  {
   "cell_type": "code",
   "execution_count": 82,
   "id": "5612f8a1",
   "metadata": {},
   "outputs": [
    {
     "name": "stdout",
     "output_type": "stream",
     "text": [
      "2\n"
     ]
    }
   ],
   "source": [
    "print(a2.ndim) # ye line batati hai array a2 ki dimensions yani 2D hai ya 3D\n"
   ]
  },
  {
   "cell_type": "code",
   "execution_count": 83,
   "id": "717d88aa",
   "metadata": {},
   "outputs": [
    {
     "name": "stdout",
     "output_type": "stream",
     "text": [
      "int64\n"
     ]
    }
   ],
   "source": [
    "print(a2.dtype) # ye line batati hai array a2 ka data type yani integer, float, etc."
   ]
  },
  {
   "cell_type": "code",
   "execution_count": 84,
   "id": "acbdbfa8",
   "metadata": {},
   "outputs": [
    {
     "data": {
      "text/plain": [
       "array([0, 1, 2, 3, 4, 5, 6, 7, 8, 9])"
      ]
     },
     "execution_count": 84,
     "metadata": {},
     "output_type": "execute_result"
    }
   ],
   "source": [
    "np.arange(10)# ye line 0 se lekar 9 tak ke numbers ka array banati hai"
   ]
  },
  {
   "cell_type": "code",
   "execution_count": 85,
   "id": "4c1b9293",
   "metadata": {},
   "outputs": [
    {
     "data": {
      "text/plain": [
       "array([ 2,  3,  4,  5,  6,  7,  8,  9, 10, 11, 12, 13, 14, 15, 16, 17, 18,\n",
       "       19, 20])"
      ]
     },
     "execution_count": 85,
     "metadata": {},
     "output_type": "execute_result"
    }
   ],
   "source": [
    "np.arange(2,21)"
   ]
  },
  {
   "cell_type": "code",
   "execution_count": 86,
   "id": "298cc0a6",
   "metadata": {},
   "outputs": [
    {
     "data": {
      "text/plain": [
       "array([ 2,  4,  6,  8, 10, 12, 14, 16, 18, 20])"
      ]
     },
     "execution_count": 86,
     "metadata": {},
     "output_type": "execute_result"
    }
   ],
   "source": [
    "np.arange(2,21,2) # ye line 2 se lekar 20 tak ke even numbers ka array banati hai"
   ]
  },
  {
   "cell_type": "code",
   "execution_count": 87,
   "id": "dd492d8b",
   "metadata": {},
   "outputs": [
    {
     "data": {
      "text/plain": [
       "array([[4, 4, 7],\n",
       "       [4, 2, 7]], dtype=int32)"
      ]
     },
     "execution_count": 87,
     "metadata": {},
     "output_type": "execute_result"
    }
   ],
   "source": [
    "np.random.randint(1,11, size = (2,3))# ye line 1 se lekar 10 tak ke random integers ka 2x3 ka array banati hai"
   ]
  },
  {
   "cell_type": "code",
   "execution_count": 88,
   "id": "967f92f9",
   "metadata": {},
   "outputs": [
    {
     "name": "stdout",
     "output_type": "stream",
     "text": [
      "[[[1 2]\n",
      "  [3 4]\n",
      "  [5 6]\n",
      "  [7 8]]]\n"
     ]
    }
   ],
   "source": [
    "x3= np.array([[[1,2],[3,4],[5,6],[7,8]]])\n",
    "print(x3)"
   ]
  },
  {
   "cell_type": "code",
   "execution_count": 95,
   "id": "d388cd95",
   "metadata": {},
   "outputs": [
    {
     "name": "stdout",
     "output_type": "stream",
     "text": [
      "(1, 4, 2)\n"
     ]
    }
   ],
   "source": [
    "print(x3.shape)"
   ]
  },
  {
   "cell_type": "code",
   "execution_count": 90,
   "id": "7862ba40",
   "metadata": {},
   "outputs": [
    {
     "name": "stdout",
     "output_type": "stream",
     "text": [
      "int64\n"
     ]
    }
   ],
   "source": [
    "print(x3.dtype)"
   ]
  },
  {
   "cell_type": "code",
   "execution_count": 91,
   "id": "9bae7a45",
   "metadata": {},
   "outputs": [
    {
     "name": "stdout",
     "output_type": "stream",
     "text": [
      "3\n"
     ]
    }
   ],
   "source": [
    "print(x3.ndim)"
   ]
  },
  {
   "cell_type": "code",
   "execution_count": 102,
   "id": "71950c45",
   "metadata": {},
   "outputs": [
    {
     "name": "stdout",
     "output_type": "stream",
     "text": [
      "[[[ 1  2  3]\n",
      "  [ 4  5  6]\n",
      "  [ 7  8  9]\n",
      "  [10 11 12]]]\n",
      "[[[13 14 15]\n",
      "  [16 17 18]\n",
      "  [19 20 21]\n",
      "  [22 23 24]]]\n"
     ]
    }
   ],
   "source": [
    "x = np.array([[[1,2,3],[4,5,6],[7,8,9],[10,11,12]]])\n",
    "print(x)\n",
    "\n",
    "y = np.array([[[13,14,15],[16,17,18],[19,20,21],[22,23,24]]])\n",
    "\n",
    "print(y)"
   ]
  },
  {
   "cell_type": "code",
   "execution_count": 103,
   "id": "862ab8a4",
   "metadata": {},
   "outputs": [
    {
     "name": "stdout",
     "output_type": "stream",
     "text": [
      "[[[ 13  28  45]\n",
      "  [ 64  85 108]\n",
      "  [133 160 189]\n",
      "  [220 253 288]]]\n"
     ]
    }
   ],
   "source": [
    "print(x * y)"
   ]
  },
  {
   "cell_type": "code",
   "execution_count": 104,
   "id": "3e9cf91f",
   "metadata": {},
   "outputs": [
    {
     "name": "stdout",
     "output_type": "stream",
     "text": [
      "(1, 4, 3)\n"
     ]
    }
   ],
   "source": [
    "print(x.shape)# ye line x aur y arrays ka dot product calculate karti hai"
   ]
  },
  {
   "cell_type": "code",
   "execution_count": 105,
   "id": "39653b55",
   "metadata": {},
   "outputs": [
    {
     "name": "stdout",
     "output_type": "stream",
     "text": [
      "(1, 4, 3)\n"
     ]
    }
   ],
   "source": [
    "print(y.shape)"
   ]
  },
  {
   "cell_type": "code",
   "execution_count": 110,
   "id": "7ea3f275",
   "metadata": {},
   "outputs": [
    {
     "name": "stdout",
     "output_type": "stream",
     "text": [
      "120\n"
     ]
    }
   ],
   "source": [
    "print(a@b) #"
   ]
  },
  {
   "cell_type": "code",
   "execution_count": 108,
   "id": "2da69071",
   "metadata": {},
   "outputs": [
    {
     "data": {
      "text/plain": [
       "array([[[[ 86, 104, 122, 140]],\n",
       "\n",
       "        [[212, 257, 302, 347]],\n",
       "\n",
       "        [[338, 410, 482, 554]],\n",
       "\n",
       "        [[464, 563, 662, 761]]]])"
      ]
     },
     "execution_count": 108,
     "metadata": {},
     "output_type": "execute_result"
    }
   ],
   "source": [
    "np.inner(x,y) # ye line x aur y arrays ka dot product calculate karti hai"
   ]
  }
 ],
 "metadata": {
  "kernelspec": {
   "display_name": "Python 3",
   "language": "python",
   "name": "python3"
  },
  "language_info": {
   "codemirror_mode": {
    "name": "ipython",
    "version": 3
   },
   "file_extension": ".py",
   "mimetype": "text/x-python",
   "name": "python",
   "nbconvert_exporter": "python",
   "pygments_lexer": "ipython3",
   "version": "3.13.3"
  }
 },
 "nbformat": 4,
 "nbformat_minor": 5
}
