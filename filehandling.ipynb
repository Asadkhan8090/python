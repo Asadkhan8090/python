{
 "cells": [
  {
   "cell_type": "code",
   "execution_count": 27,
   "id": "62fb1e76",
   "metadata": {},
   "outputs": [
    {
     "name": "stdout",
     "output_type": "stream",
     "text": [
      "hello Buddy\n",
      "How are you??\n"
     ]
    }
   ],
   "source": [
    "file = open('file.txt','r') # open in read mode\n",
    "print(file.read())"
   ]
  },
  {
   "cell_type": "code",
   "execution_count": 28,
   "id": "94a94714",
   "metadata": {},
   "outputs": [
    {
     "name": "stdout",
     "output_type": "stream",
     "text": [
      "file appended successfully\n"
     ]
    }
   ],
   "source": [
    "file = open('file.txt','w')\n",
    "file.write('hello Buddy')\n",
    "print('file appended successfully') "
   ]
  },
  {
   "cell_type": "code",
   "execution_count": 29,
   "id": "72433633",
   "metadata": {},
   "outputs": [
    {
     "name": "stdout",
     "output_type": "stream",
     "text": [
      "hello Buddy\n"
     ]
    }
   ],
   "source": [
    "file = open('file.txt','r') # open in read mode\n",
    "print(file.read())"
   ]
  },
  {
   "cell_type": "code",
   "execution_count": 30,
   "id": "56feec68",
   "metadata": {},
   "outputs": [
    {
     "name": "stdout",
     "output_type": "stream",
     "text": [
      "file appeneded successfully\n"
     ]
    }
   ],
   "source": [
    "file = open('file.txt','a') # open in append mode\n",
    "file.write('\\nHow are you??')\n",
    "print('file appeneded successfully')"
   ]
  },
  {
   "cell_type": "code",
   "execution_count": 31,
   "id": "20da0616",
   "metadata": {},
   "outputs": [],
   "source": [
    "import os"
   ]
  },
  {
   "cell_type": "code",
   "execution_count": 32,
   "id": "2fdb71b4",
   "metadata": {},
   "outputs": [
    {
     "name": "stdout",
     "output_type": "stream",
     "text": [
      "Current workinh directory c:\\Users\\abc\\Documents\\python\n"
     ]
    }
   ],
   "source": [
    "print('Current workinh directory', os.getcwd())"
   ]
  },
  {
   "cell_type": "code",
   "execution_count": 33,
   "id": "8dcd7e4e",
   "metadata": {},
   "outputs": [
    {
     "name": "stdout",
     "output_type": "stream",
     "text": [
      "['.git', '.vscode', 'conditions.ipynb', 'Data structure', 'file.txt', 'filehandling.ipynb', 'function.ipynb', 'grosssalarycalculator.ipynb', 'llibbraries.ipynb', 'login program.ipynb', 'loop.ipynb', 'miniconda.py', 'Numpy2.ipynb', 'operators.ipynb', 'prime.py']\n"
     ]
    }
   ],
   "source": [
    "file = os.listdir() # list all files and folders in the current directory\n",
    "print(file)"
   ]
  },
  {
   "cell_type": "code",
   "execution_count": 34,
   "id": "8ab5c367",
   "metadata": {},
   "outputs": [
    {
     "name": "stdout",
     "output_type": "stream",
     "text": [
      "['desktop.ini', 'IMG20240901153644.jpg', 'IMG20250305131938~2.jpg', 'pexels-baskincreativeco-1480807.jpg', 'pexels-eberhardgross-534164.jpg', 'pexels-pixabay-33109.jpg']\n"
     ]
    }
   ],
   "source": [
    "file = os.listdir(r\"C:\\Users\\abc\\Pictures\\Saved Pictures\")\n",
    "print(file)"
   ]
  },
  {
   "cell_type": "code",
   "execution_count": 35,
   "id": "8fe48104",
   "metadata": {},
   "outputs": [],
   "source": [
    "import os as listdir # aliasing os module to listdir"
   ]
  },
  {
   "cell_type": "code",
   "execution_count": 36,
   "id": "79fb8cb2",
   "metadata": {},
   "outputs": [],
   "source": [
    "import os"
   ]
  },
  {
   "cell_type": "code",
   "execution_count": 37,
   "id": "6594d1e3",
   "metadata": {},
   "outputs": [
    {
     "name": "stdout",
     "output_type": "stream",
     "text": [
      "=> C:\\Users\\abc\\Pictures\\Saved Pictures\n",
      "📁 []\n",
      "📄 ['desktop.ini', 'IMG20240901153644.jpg', 'IMG20250305131938~2.jpg', 'pexels-baskincreativeco-1480807.jpg', 'pexels-eberhardgross-534164.jpg', 'pexels-pixabay-33109.jpg']\n",
      "Total files in directory tree: 6\n"
     ]
    }
   ],
   "source": [
    "total_files = 0\n",
    "for path,folder,files in os . walk(r\"C:\\Users\\abc\\Pictures\\Saved Pictures\"):\n",
    "    print('=>',path)\n",
    "    print('📁',folder)\n",
    "    print('📄',files)\n",
    "    total_files += len(files)\n",
    "    print('Total files in directory tree:', total_files)"
   ]
  },
  {
   "cell_type": "code",
   "execution_count": 38,
   "id": "0cac2391",
   "metadata": {},
   "outputs": [],
   "source": [
    "import os"
   ]
  },
  {
   "cell_type": "code",
   "execution_count": 39,
   "id": "9ba00d90",
   "metadata": {},
   "outputs": [
    {
     "name": "stdout",
     "output_type": "stream",
     "text": [
      "the file exists\n"
     ]
    }
   ],
   "source": [
    "files = r\"C:\\Users\\abc\\Pictures\\Saved Pictures\"\n",
    "if os.path.exists(files):\n",
    "    print(\"the file exists\")\n",
    "else:\n",
    "    print(\"the files dose not exists\")    "
   ]
  }
 ],
 "metadata": {
  "kernelspec": {
   "display_name": "Python 3",
   "language": "python",
   "name": "python3"
  },
  "language_info": {
   "codemirror_mode": {
    "name": "ipython",
    "version": 3
   },
   "file_extension": ".py",
   "mimetype": "text/x-python",
   "name": "python",
   "nbconvert_exporter": "python",
   "pygments_lexer": "ipython3",
   "version": "3.13.3"
  }
 },
 "nbformat": 4,
 "nbformat_minor": 5
}
