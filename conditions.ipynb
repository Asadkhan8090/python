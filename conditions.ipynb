{
 "cells": [
  {
   "cell_type": "code",
   "execution_count": null,
   "metadata": {},
   "outputs": [
    {
     "name": "stdout",
     "output_type": "stream",
     "text": [
      "two sides are equal\n"
     ]
    }
   ],
   "source": [
    "# check whether a two side of   Triangle are equal or not\n",
    "a = 10\n",
    "b = 10\n",
    "c = 30\n",
    "if a == b or b == c or c == a:\n",
    "    print(\"two sides are equal\")\n",
    "else:\n",
    "    print(\"not equal\")    "
   ]
  },
  {
   "cell_type": "code",
   "execution_count": null,
   "metadata": {},
   "outputs": [
    {
     "name": "stdout",
     "output_type": "stream",
     "text": [
      "scalen\n"
     ]
    }
   ],
   "source": [
    "# check whether a triangle is equilateral or isosceles or Scalene.\n",
    "a = 10\n",
    "b = 20\n",
    "c = 30\n",
    "if a == b == c:\n",
    "    print(\"equilateral\")\n",
    "elif a == b or b == c or c == a:\n",
    "    print(\"isosceles\")\n",
    "else:\n",
    "    print(\"scalene\")    \n",
    "    "
   ]
  },
  {
   "cell_type": "code",
   "execution_count": null,
   "metadata": {},
   "outputs": [
    {
     "name": "stdout",
     "output_type": "stream",
     "text": [
      "not leap year\n"
     ]
    }
   ],
   "source": [
    "# check leap year or not\n",
    "year = int(input(\"Enter the year\"))\n",
    "if year % 4 == 0:\n",
    "    print(\"leap year\")\n",
    "else:\n",
    "    print(\"not leap year\")    "
   ]
  },
  {
   "cell_type": "code",
   "execution_count": 15,
   "metadata": {},
   "outputs": [
    {
     "name": "stdout",
     "output_type": "stream",
     "text": [
      "console\n"
     ]
    }
   ],
   "source": [
    "char = input(\"Enter a charactor\")\n",
    "if char =='a'or char =='e' or char =='i' or char =='o' or char =='u'or char =='A' or char =='A' or char =='E' or char =='I' or char =='O' or char =='U':\n",
    "    print('vowel')\n",
    "else:\n",
    "    print('console')    "
   ]
  },
  {
   "cell_type": "code",
   "execution_count": 13,
   "metadata": {},
   "outputs": [
    {
     "name": "stdout",
     "output_type": "stream",
     "text": [
      "odd number\n"
     ]
    }
   ],
   "source": [
    "a = int(input(\"enter number\"))\n",
    "if a % 2 ==0:\n",
    "    print(\"even number\")\n",
    "else:\n",
    "    print(\"odd number\")       "
   ]
  },
  {
   "cell_type": "code",
   "execution_count": 12,
   "metadata": {},
   "outputs": [
    {
     "name": "stdout",
     "output_type": "stream",
     "text": [
      "zero\n"
     ]
    }
   ],
   "source": [
    "# check number ve+, ve-,zero\n",
    "a = 10\n",
    "a = int(input(\"enter the number\"))\n",
    "if a > 0:\n",
    "    print(\"positive\")\n",
    "elif a <0:\n",
    "    print(\"nigetive\")\n",
    "else:\n",
    "    print(\"zero\")       \n",
    "\n"
   ]
  },
  {
   "cell_type": "code",
   "execution_count": 5,
   "metadata": {},
   "outputs": [
    {
     "name": "stdout",
     "output_type": "stream",
     "text": [
      "positive number\n",
      "Even number\n"
     ]
    }
   ],
   "source": [
    "# nested if (if ke andar if)\n",
    "num = 10\n",
    "if num > 0:\n",
    "    print(\"positive number\")\n",
    "    if num % 2 == 0:\n",
    "        print(\"Even number\")"
   ]
  },
  {
   "cell_type": "code",
   "execution_count": 4,
   "metadata": {},
   "outputs": [
    {
     "name": "stdout",
     "output_type": "stream",
     "text": [
      "grade : B\n"
     ]
    }
   ],
   "source": [
    "# if-elif-else ladder\n",
    "marks = 75\n",
    "if marks >= 90:\n",
    "    print(\"grade : A+\")\n",
    "elif marks >= 80:\n",
    "    print(\"grade : A\")\n",
    "elif marks >= 60:\n",
    "    print(\"grade : B\")\n",
    "else:\n",
    "    print(\"fail\")\n",
    "            "
   ]
  },
  {
   "cell_type": "code",
   "execution_count": 3,
   "metadata": {},
   "outputs": [
    {
     "name": "stdout",
     "output_type": "stream",
     "text": [
      "You are not eligiblefor vote.\n"
     ]
    }
   ],
   "source": [
    "# if-else statement\n",
    "age = 15\n",
    "if age >= 18 :\n",
    "    print(\"You are eligible to vote.\")\n",
    "else :\n",
    "    print(\"You are not eligiblefor vote.\")    "
   ]
  },
  {
   "cell_type": "code",
   "execution_count": 2,
   "metadata": {},
   "outputs": [
    {
     "name": "stdout",
     "output_type": "stream",
     "text": [
      "you are eligible for vote\n"
     ]
    }
   ],
   "source": [
    "# if stetment\n",
    "age = 20\n",
    "if age >= 18 :\n",
    " print(\"you are eligible for vote\")"
   ]
  }
 ],
 "metadata": {
  "kernelspec": {
   "display_name": "Python 3",
   "language": "python",
   "name": "python3"
  },
  "language_info": {
   "codemirror_mode": {
    "name": "ipython",
    "version": 3
   },
   "file_extension": ".py",
   "mimetype": "text/x-python",
   "name": "python",
   "nbconvert_exporter": "python",
   "pygments_lexer": "ipython3",
   "version": "3.13.3"
  }
 },
 "nbformat": 4,
 "nbformat_minor": 2
}
