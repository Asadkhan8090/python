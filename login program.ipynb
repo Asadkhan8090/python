{
 "cells": [
  {
   "cell_type": "code",
   "execution_count": 1,
   "id": "83cb510b",
   "metadata": {},
   "outputs": [
    {
     "name": "stdout",
     "output_type": "stream",
     "text": [
      "Username must be between 8 and 20 characters\n"
     ]
    }
   ],
   "source": [
    "username = input(\"Enter your username:\")\n",
    "email = input(\"Enter your email:\")\n",
    "password = input(\"Enter your password:\")\n",
    "cpass = input(\"conform your password:\")\n",
    "if len(username)>=8 and len(username)<= 20:\n",
    "    if'@' in email and len(email)>=8:\n",
    "        if len(password) >=10 and len(password) <= 20:\n",
    "            if password == cpass:\n",
    "                print(\"Registration successful\")\n",
    "            else:\n",
    "                print(\"password mismatch\")\n",
    "        else:\n",
    "            print(\"password must be between 10 and 20 characters\")\n",
    "    else:\n",
    "        print(\"Invalid email:\")\n",
    "else:\n",
    "    print(\"Username must be between 8 and 20 characters\")"
   ]
  }
 ],
 "metadata": {
  "kernelspec": {
   "display_name": "Python 3",
   "language": "python",
   "name": "python3"
  },
  "language_info": {
   "codemirror_mode": {
    "name": "ipython",
    "version": 3
   },
   "file_extension": ".py",
   "mimetype": "text/x-python",
   "name": "python",
   "nbconvert_exporter": "python",
   "pygments_lexer": "ipython3",
   "version": "3.13.3"
  }
 },
 "nbformat": 4,
 "nbformat_minor": 5
}
