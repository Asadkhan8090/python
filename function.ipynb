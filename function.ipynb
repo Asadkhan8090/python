{
 "cells": [
  {
   "cell_type": "markdown",
   "id": "49a0bd57",
   "metadata": {},
   "source": [
    "-> User defined functions\n",
    "    * paramterized function\n",
    "    * non paraterized function\n",
    "    * return function\n",
    "    * non return function\n",
    "    * default parameterized function\n",
    "    * lambda function\n",
    "-> Built in function\n"
   ]
  },
  {
   "cell_type": "code",
   "execution_count": null,
   "id": "d29ac5b0",
   "metadata": {},
   "outputs": [],
   "source": [
    "# Non parametrized function\n",
    "def greet():\n",
    "    print(\"Hello users\")\n",
    "    print(\"Welcome to this notebook\")\n",
    "    print(\"Goodbye thankyou\")\n"
   ]
  },
  {
   "cell_type": "code",
   "execution_count": 4,
   "id": "4c24318f",
   "metadata": {},
   "outputs": [
    {
     "name": "stdout",
     "output_type": "stream",
     "text": [
      "Hello users\n",
      "Welcome to this notebook\n",
      "Goodbye thankyou\n"
     ]
    }
   ],
   "source": [
    "greet() # function call"
   ]
  },
  {
   "cell_type": "code",
   "execution_count": null,
   "id": "bb6076f2",
   "metadata": {},
   "outputs": [
    {
     "name": "stdout",
     "output_type": "stream",
     "text": [
      "30\n"
     ]
    }
   ],
   "source": [
    "# parametrized function\n",
    "#  function declaration\n",
    "def sum(a,b):\n",
    "    print(a + b)\n",
    "sum(10, 20) # arguments"
   ]
  },
  {
   "cell_type": "code",
   "execution_count": 10,
   "id": "4e655c65",
   "metadata": {},
   "outputs": [],
   "source": [
    "def num():\n",
    "    a = int(input(\"Enter the number\"))\n",
    "    if num % 2 == 0:\n",
    "        print(\"even number\")\n",
    "    else:\n",
    "        print(\"not even\")\n",
    "    \n",
    "        "
   ]
  },
  {
   "cell_type": "code",
   "execution_count": 11,
   "id": "05f14ff0",
   "metadata": {},
   "outputs": [
    {
     "ename": "TypeError",
     "evalue": "unsupported operand type(s) for %: 'function' and 'int'",
     "output_type": "error",
     "traceback": [
      "\u001b[31m---------------------------------------------------------------------------\u001b[39m",
      "\u001b[31mTypeError\u001b[39m                                 Traceback (most recent call last)",
      "\u001b[36mCell\u001b[39m\u001b[36m \u001b[39m\u001b[32mIn[11]\u001b[39m\u001b[32m, line 1\u001b[39m\n\u001b[32m----> \u001b[39m\u001b[32m1\u001b[39m \u001b[43mnum\u001b[49m\u001b[43m(\u001b[49m\u001b[43m)\u001b[49m\n",
      "\u001b[36mCell\u001b[39m\u001b[36m \u001b[39m\u001b[32mIn[10]\u001b[39m\u001b[32m, line 3\u001b[39m, in \u001b[36mnum\u001b[39m\u001b[34m()\u001b[39m\n\u001b[32m      1\u001b[39m \u001b[38;5;28;01mdef\u001b[39;00m\u001b[38;5;250m \u001b[39m\u001b[34mnum\u001b[39m():\n\u001b[32m      2\u001b[39m     a = \u001b[38;5;28mint\u001b[39m(\u001b[38;5;28minput\u001b[39m(\u001b[33m\"\u001b[39m\u001b[33mEnter the number\u001b[39m\u001b[33m\"\u001b[39m))\n\u001b[32m----> \u001b[39m\u001b[32m3\u001b[39m     \u001b[38;5;28;01mif\u001b[39;00m \u001b[43mnum\u001b[49m\u001b[43m \u001b[49m\u001b[43m%\u001b[49m\u001b[43m \u001b[49m\u001b[32;43m2\u001b[39;49m == \u001b[32m0\u001b[39m:\n\u001b[32m      4\u001b[39m         \u001b[38;5;28mprint\u001b[39m(\u001b[33m\"\u001b[39m\u001b[33meven number\u001b[39m\u001b[33m\"\u001b[39m)\n\u001b[32m      5\u001b[39m     \u001b[38;5;28;01melse\u001b[39;00m:\n",
      "\u001b[31mTypeError\u001b[39m: unsupported operand type(s) for %: 'function' and 'int'"
     ]
    }
   ],
   "source": [
    "num()"
   ]
  },
  {
   "cell_type": "markdown",
   "id": "e32e67cc",
   "metadata": {},
   "source": [
    "average of 3 number\n",
    "fine the cube of 5"
   ]
  },
  {
   "cell_type": "code",
   "execution_count": null,
   "id": "5bd1a7e9",
   "metadata": {},
   "outputs": [
    {
     "name": "stdout",
     "output_type": "stream",
     "text": [
      "7 is a prime number\n"
     ]
    }
   ],
   "source": []
  },
  {
   "cell_type": "code",
   "execution_count": 21,
   "id": "bc7ea554",
   "metadata": {},
   "outputs": [
    {
     "name": "stdout",
     "output_type": "stream",
     "text": [
      "20.0\n",
      "None\n"
     ]
    }
   ],
   "source": [
    "# non return function\n",
    "def avg(a,b,c):\n",
    "    print((a+b+c)/3)\n",
    "average = avg(10,20,30)\n",
    "print(average)    "
   ]
  },
  {
   "cell_type": "code",
   "execution_count": null,
   "id": "158993ce",
   "metadata": {},
   "outputs": [
    {
     "name": "stdout",
     "output_type": "stream",
     "text": [
      "20.0\n"
     ]
    }
   ],
   "source": [
    "# return function\n",
    "def avg(a,b,c):\n",
    "    return(a+b+c)/3\n",
    "average = avg(10,20,30)\n",
    "print(average)"
   ]
  },
  {
   "cell_type": "code",
   "execution_count": 23,
   "id": "7e0d4507",
   "metadata": {},
   "outputs": [
    {
     "name": "stdout",
     "output_type": "stream",
     "text": [
      "('I LOVE', 'india')\n",
      "('I LOVE', 'UK')\n"
     ]
    }
   ],
   "source": [
    "# defoult function\n",
    "def my_country(country):\n",
    "    return\"I LOVE\",country\n",
    "\n",
    "print(my_country(\"india\"))\n",
    "print(my_country(\"UK\"))"
   ]
  },
  {
   "cell_type": "code",
   "execution_count": 24,
   "id": "0483a778",
   "metadata": {},
   "outputs": [
    {
     "name": "stdout",
     "output_type": "stream",
     "text": [
      "('I LOVE', 'india')\n",
      "('I LOVE', 'UK')\n",
      "('I LOVE', 'india')\n"
     ]
    }
   ],
   "source": [
    "#defoult function\n",
    "def my_country(country =\"india\"):\n",
    "    return\"I LOVE\",country\n",
    "\n",
    "print(my_country(\"india\"))\n",
    "print(my_country(\"UK\"))\n",
    "print(my_country())"
   ]
  },
  {
   "cell_type": "code",
   "execution_count": 25,
   "id": "48e2eaec",
   "metadata": {},
   "outputs": [
    {
     "data": {
      "text/plain": [
       "25"
      ]
     },
     "execution_count": 25,
     "metadata": {},
     "output_type": "execute_result"
    }
   ],
   "source": [
    "# LAMBDA FUNCTION\n",
    "def square(x):\n",
    "    return x**2\n",
    "square(5)"
   ]
  },
  {
   "cell_type": "code",
   "execution_count": 26,
   "id": "968577d3",
   "metadata": {},
   "outputs": [
    {
     "name": "stdout",
     "output_type": "stream",
     "text": [
      "25\n"
     ]
    }
   ],
   "source": [
    "square = lambda x: x**2\n",
    "print(square(5))"
   ]
  },
  {
   "cell_type": "code",
   "execution_count": 27,
   "id": "d9459670",
   "metadata": {},
   "outputs": [
    {
     "name": "stdout",
     "output_type": "stream",
     "text": [
      "even\n"
     ]
    }
   ],
   "source": [
    "even = lambda x :'even' if x%2==0 else 'odd'\n",
    "print(even(10))"
   ]
  },
  {
   "cell_type": "markdown",
   "id": "806eb893",
   "metadata": {},
   "source": [
    "- to find the number is prime or not \n",
    "- to make a list of 5 number and retuen a new list with square of each number\n",
    "- to take a list of 10 numbers and return a new list with only even number\n"
   ]
  }
 ],
 "metadata": {
  "kernelspec": {
   "display_name": "Python 3",
   "language": "python",
   "name": "python3"
  },
  "language_info": {
   "codemirror_mode": {
    "name": "ipython",
    "version": 3
   },
   "file_extension": ".py",
   "mimetype": "text/x-python",
   "name": "python",
   "nbconvert_exporter": "python",
   "pygments_lexer": "ipython3",
   "version": "3.13.3"
  }
 },
 "nbformat": 4,
 "nbformat_minor": 5
}
