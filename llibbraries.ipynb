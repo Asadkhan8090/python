{
 "cells": [
  {
   "cell_type": "code",
   "execution_count": 1,
   "id": "f2bb340c",
   "metadata": {},
   "outputs": [],
   "source": [
    "import math"
   ]
  },
  {
   "cell_type": "code",
   "execution_count": 3,
   "id": "cfa93e5f",
   "metadata": {},
   "outputs": [
    {
     "name": "stdout",
     "output_type": "stream",
     "text": [
      "2.23606797749979\n",
      "2\n",
      "84\n",
      "3.141592653589793\n",
      "120\n",
      "8.0\n",
      "2.302585092994046\n",
      "0.8414709848078965\n"
     ]
    }
   ],
   "source": [
    "print(math.sqrt(5))\n",
    "print(math.gcd(10,12))\n",
    "print(math.lcm(12,14))\n",
    "print(math.pi)\n",
    "print(math.factorial(5))\n",
    "print(math.pow(2,3))\n",
    "print(math.log(10))\n",
    "print(math.sin(1))"
   ]
  },
  {
   "cell_type": "code",
   "execution_count": 4,
   "id": "65ab89f8",
   "metadata": {},
   "outputs": [],
   "source": [
    "from random import random, randint, choice, shuffle"
   ]
  },
  {
   "cell_type": "code",
   "execution_count": 20,
   "id": "8950f6f1",
   "metadata": {},
   "outputs": [
    {
     "name": "stdout",
     "output_type": "stream",
     "text": [
      "Get a number between 0 and 1: 0.011885195435703988\n",
      "Get a number between the given range: 5\n",
      "Get a number from my choice 9\n",
      "shuffled names ['Asad', 'john', 'jane', 'jack']\n"
     ]
    }
   ],
   "source": [
    "print(\"Get a number between 0 and 1:\", random())\n",
    "print(\"Get a number between the given range:\", randint(1,21))\n",
    "print(\"Get a number from my choice\",choice([2,5,4,7,9]))\n",
    "name = ['Asad', 'john', 'jane', 'jack']\n",
    "shuffle(name)\n",
    "print('shuffled names',name)"
   ]
  },
  {
   "cell_type": "code",
   "execution_count": 23,
   "id": "d0990647",
   "metadata": {},
   "outputs": [],
   "source": [
    "from datetime import datetime as dt"
   ]
  },
  {
   "cell_type": "code",
   "execution_count": null,
   "id": "2b431c77",
   "metadata": {},
   "outputs": [
    {
     "name": "stdout",
     "output_type": "stream",
     "text": [
      "Current date and time 2025-07-28 11:45:58.522929\n"
     ]
    }
   ],
   "source": [
    "print('Current date and time',dt.now())"
   ]
  },
  {
   "cell_type": "code",
   "execution_count": 26,
   "id": "dbddefe3",
   "metadata": {},
   "outputs": [
    {
     "name": "stdout",
     "output_type": "stream",
     "text": [
      "Current date 2025-07-28\n",
      "Current time 11:47:21.281714\n"
     ]
    }
   ],
   "source": [
    "print('Current date', dt.now().date())\n",
    "print('Current time', dt.now().time())"
   ]
  },
  {
   "cell_type": "code",
   "execution_count": 116,
   "id": "21e44506",
   "metadata": {},
   "outputs": [
    {
     "name": "stdout",
     "output_type": "stream",
     "text": [
      "Current year 2025\n",
      "Current month 7\n",
      "current day 28\n",
      "Current hour 11\n",
      "Current minute 52\n",
      "Current second 0\n"
     ]
    }
   ],
   "source": [
    "print('Current year',dt.now().year)\n",
    "print('Current month',dt.now().month)\n",
    "print('current day',dt.now().day)\n",
    "print('Current hour',dt.now().hour)\n",
    "print('Current minute',dt.now().minute)\n",
    "print('Current second',dt.now().second)"
   ]
  }
 ],
 "metadata": {
  "kernelspec": {
   "display_name": "Python 3",
   "language": "python",
   "name": "python3"
  },
  "language_info": {
   "codemirror_mode": {
    "name": "ipython",
    "version": 3
   },
   "file_extension": ".py",
   "mimetype": "text/x-python",
   "name": "python",
   "nbconvert_exporter": "python",
   "pygments_lexer": "ipython3",
   "version": "3.13.3"
  }
 },
 "nbformat": 4,
 "nbformat_minor": 5
}
