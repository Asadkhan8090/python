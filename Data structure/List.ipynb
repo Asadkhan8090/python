{
 "cells": [
  {
   "cell_type": "code",
   "execution_count": 15,
   "id": "c9b7a7db",
   "metadata": {},
   "outputs": [
    {
     "name": "stdout",
     "output_type": "stream",
     "text": [
      "chrome,whatsaap,youtube,instagram,pubg,asad,khan,saan,ola,swiggy,"
     ]
    }
   ],
   "source": [
    "apps = [\"chrome\",\"whatsaap\",\"youtube\",\"instagram\",\"pubg\",\"asad\",\"khan\",\"saan\",\"ola\",\"swiggy\"]\n",
    "for i in apps:\n",
    "    print(i, end = \",\")"
   ]
  },
  {
   "cell_type": "markdown",
   "id": "5ada3289",
   "metadata": {},
   "source": [
    "# Indexing and Slicing\n"
   ]
  },
  {
   "cell_type": "code",
   "execution_count": 16,
   "id": "090f4d0e",
   "metadata": {},
   "outputs": [
    {
     "name": "stdout",
     "output_type": "stream",
     "text": [
      "chrome\n"
     ]
    }
   ],
   "source": [
    "# Indexing and Slicing\n",
    "apps = [\"chrome\",\"whatsaap\",\"youtube\",\"instagram\",\"pubg\",\"asad\",\"khan\",\"saan\",\"ola\",\"swiggy\"]\n",
    "print(apps[0])"
   ]
  },
  {
   "cell_type": "code",
   "execution_count": 17,
   "id": "9477a904",
   "metadata": {},
   "outputs": [
    {
     "name": "stdout",
     "output_type": "stream",
     "text": [
      "ola\n",
      "saan\n"
     ]
    }
   ],
   "source": [
    "# revers indexing / negative indexing\n",
    "print(apps[-2])\n",
    "print(apps[-3])"
   ]
  },
  {
   "cell_type": "code",
   "execution_count": 18,
   "id": "af7b1551",
   "metadata": {},
   "outputs": [
    {
     "name": "stdout",
     "output_type": "stream",
     "text": [
      "1\n",
      "2\n",
      "3\n",
      "4\n",
      "5\n"
     ]
    }
   ],
   "source": [
    "# print number 1 to 5\n",
    "for i in range(1 , 6):\n",
    "    print(i)"
   ]
  },
  {
   "cell_type": "code",
   "execution_count": 19,
   "id": "8dbba7bb",
   "metadata": {},
   "outputs": [
    {
     "name": "stdout",
     "output_type": "stream",
     "text": [
      "['chrome', 'whatsaap', 'youtube', 'instagram', 'pubg', 'asad', 'khan', 'saan', 'ola', 'swiggy']\n",
      "['youtube', 'instagram', 'pubg', 'asad', 'khan', 'saan']\n",
      "['youtube', 'pubg', 'khan', 'ola']\n",
      "['chrome', 'whatsaap', 'youtube', 'instagram', 'pubg', 'asad', 'khan', 'saan']\n",
      "['instagram', 'pubg', 'asad', 'khan', 'saan', 'ola', 'swiggy']\n",
      "['khan', 'saan', 'ola', 'swiggy']\n"
     ]
    }
   ],
   "source": [
    "# slicing\n",
    "print(apps[:])\n",
    "print(apps[2:8])\n",
    "print(apps[2:9:2])\n",
    "print(apps[:8])\n",
    "print(apps[3:])\n",
    "print(apps[-4:])"
   ]
  },
  {
   "cell_type": "markdown",
   "id": "dbf6f9c1",
   "metadata": {},
   "source": [
    "List methods\n",
    "- append() - to add item at the end of the list\n",
    "- insert() - to add item at any specific position in the list\n",
    "- pop()    - to delete item using its index position \n",
    "- remove() - to delete items using item name\n",
    "- copy()   - to make a duplicate of the list\n",
    "- sort()   - to sort the list in a particular order\n",
    "- extend() - to combine two list into a single list\n",
    "- clear()  - to delete all the items from the list but not the list"
   ]
  },
  {
   "cell_type": "code",
   "execution_count": 20,
   "id": "b6cc55b6",
   "metadata": {},
   "outputs": [
    {
     "name": "stdout",
     "output_type": "stream",
     "text": [
      "['chrome', 'whatsaap', 'youtube', 'instagram', 'pubg', 'asad', 'khan', 'saan', 'ola', 'swiggy', 'Netflix']\n"
     ]
    }
   ],
   "source": [
    "apps.append('Netflix')\n",
    "print(apps)"
   ]
  },
  {
   "cell_type": "code",
   "execution_count": 21,
   "id": "70d3e563",
   "metadata": {},
   "outputs": [
    {
     "name": "stdout",
     "output_type": "stream",
     "text": [
      "['chrome', 'whatsaap', 'Amazon', 'youtube', 'instagram', 'pubg', 'asad', 'khan', 'saan', 'ola', 'swiggy', 'Netflix']\n"
     ]
    }
   ],
   "source": [
    "apps.insert(2,'Amazon')\n",
    "print(apps)"
   ]
  },
  {
   "cell_type": "code",
   "execution_count": 22,
   "id": "5c53cf52",
   "metadata": {},
   "outputs": [
    {
     "name": "stdout",
     "output_type": "stream",
     "text": [
      "['chrome', 'whatsaap', 'youtube', 'instagram', 'pubg', 'asad', 'khan', 'saan', 'ola', 'swiggy', 'Netflix']\n"
     ]
    }
   ],
   "source": [
    "apps.pop(2)\n",
    "print(apps)"
   ]
  },
  {
   "cell_type": "code",
   "execution_count": 23,
   "id": "0dd68aaa",
   "metadata": {},
   "outputs": [
    {
     "name": "stdout",
     "output_type": "stream",
     "text": [
      "['chrome', 'whatsaap', 'youtube', 'instagram', 'pubg', 'asad', 'khan', 'saan', 'swiggy', 'Netflix']\n"
     ]
    }
   ],
   "source": [
    "apps.remove('ola')\n",
    "print(apps)"
   ]
  },
  {
   "cell_type": "code",
   "execution_count": 24,
   "id": "62412461",
   "metadata": {},
   "outputs": [
    {
     "name": "stdout",
     "output_type": "stream",
     "text": [
      "['chrome', 'whatsaap', 'youtube', 'instagram', 'pubg', 'asad', 'khan', 'saan', 'swiggy', 'Netflix']\n"
     ]
    }
   ],
   "source": [
    "copy_list = apps.copy()\n",
    "print(copy_list)"
   ]
  },
  {
   "cell_type": "code",
   "execution_count": 25,
   "id": "871d72e5",
   "metadata": {},
   "outputs": [
    {
     "name": "stdout",
     "output_type": "stream",
     "text": [
      "[]\n"
     ]
    }
   ],
   "source": [
    "copy_list.clear()\n",
    "print(copy_list)"
   ]
  },
  {
   "cell_type": "code",
   "execution_count": 26,
   "id": "e244300d",
   "metadata": {},
   "outputs": [
    {
     "name": "stdout",
     "output_type": "stream",
     "text": [
      "['Netflix', 'asad', 'chrome', 'instagram', 'khan', 'pubg', 'saan', 'swiggy', 'whatsaap', 'youtube']\n"
     ]
    }
   ],
   "source": [
    "apps.sort()\n",
    "print(apps)"
   ]
  },
  {
   "cell_type": "code",
   "execution_count": 27,
   "id": "acbf99df",
   "metadata": {},
   "outputs": [
    {
     "name": "stdout",
     "output_type": "stream",
     "text": [
      "['Snapchat', 'twitter', 'Linkdin']\n"
     ]
    }
   ],
   "source": [
    "apps2 = ['Snapchat','twitter','Linkdin']\n",
    "print(apps2)"
   ]
  }
 ],
 "metadata": {
  "kernelspec": {
   "display_name": "Python 3",
   "language": "python",
   "name": "python3"
  },
  "language_info": {
   "codemirror_mode": {
    "name": "ipython",
    "version": 3
   },
   "file_extension": ".py",
   "mimetype": "text/x-python",
   "name": "python",
   "nbconvert_exporter": "python",
   "pygments_lexer": "ipython3",
   "version": "3.13.3"
  }
 },
 "nbformat": 4,
 "nbformat_minor": 5
}
