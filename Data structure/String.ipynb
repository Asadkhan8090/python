{
 "cells": [
  {
   "cell_type": "code",
   "execution_count": 7,
   "id": "9ea00880",
   "metadata": {},
   "outputs": [
    {
     "name": "stdout",
     "output_type": "stream",
     "text": [
      "asad \n",
      "lucknow\n"
     ]
    }
   ],
   "source": [
    "# declaration\n",
    "name =\"asad \"\n",
    "city = \"lucknow\"\n",
    "print(name)\n",
    "print(city)"
   ]
  },
  {
   "cell_type": "code",
   "execution_count": 8,
   "id": "76e0429f",
   "metadata": {},
   "outputs": [
    {
     "name": "stdout",
     "output_type": "stream",
     "text": [
      "asad khan\n",
      "lucknow\n"
     ]
    }
   ],
   "source": [
    "#string\n",
    "name = \"asad khan\"\n",
    "city = \"lucknow\"\n",
    "print(name)\n",
    "print(city)"
   ]
  },
  {
   "cell_type": "code",
   "execution_count": 9,
   "id": "2039be32",
   "metadata": {},
   "outputs": [
    {
     "name": "stdout",
     "output_type": "stream",
     "text": [
      "good morning\n"
     ]
    }
   ],
   "source": [
    "# String Concatenation(do string ko jodna)\n",
    "first = \"good \"\n",
    "second = \"morning\"\n",
    "print(first +\"\" + second)"
   ]
  },
  {
   "cell_type": "code",
   "execution_count": 10,
   "id": "9a5f2d46",
   "metadata": {},
   "outputs": [
    {
     "name": "stdout",
     "output_type": "stream",
     "text": [
      "i am 15 year old\n"
     ]
    }
   ],
   "source": [
    "age =15\n",
    "print(\"i am\" +  \" \" + str(age)+ \" \" +  \"year old\")"
   ]
  },
  {
   "cell_type": "markdown",
   "id": "b5846ea0",
   "metadata": {},
   "source": [
    "useful string function \n",
    "len() - length batata hai\n",
    "upper() - sab capital\n",
    "lower() - sab small\n",
    "replace() - word badalana(hi h -p, pi)\n",
    "count() - kitni baar aya(madam a ka count = 2)"
   ]
  },
  {
   "cell_type": "code",
   "execution_count": 11,
   "id": "06133ec3",
   "metadata": {},
   "outputs": [
    {
     "name": "stdout",
     "output_type": "stream",
     "text": [
      "5\n"
     ]
    }
   ],
   "source": [
    "word = \"hello\"\n",
    "print(len(word))"
   ]
  },
  {
   "cell_type": "code",
   "execution_count": 12,
   "id": "27932ff9",
   "metadata": {},
   "outputs": [
    {
     "name": "stdout",
     "output_type": "stream",
     "text": [
      "ASAD KHAN\n"
     ]
    }
   ],
   "source": [
    "# upper\n",
    "name = \"asad khan\"\n",
    "print(name.upper())"
   ]
  },
  {
   "cell_type": "code",
   "execution_count": 13,
   "id": "2b9f4ac2",
   "metadata": {},
   "outputs": [
    {
     "name": "stdout",
     "output_type": "stream",
     "text": [
      "asad khaan\n"
     ]
    }
   ],
   "source": [
    "# lower\n",
    "name = \"ASAD KHAAN\"\n",
    "print(name.lower())"
   ]
  },
  {
   "cell_type": "code",
   "execution_count": 14,
   "id": "3e487d1d",
   "metadata": {},
   "outputs": [
    {
     "name": "stdout",
     "output_type": "stream",
     "text": [
      "Ginger garlic\n"
     ]
    }
   ],
   "source": [
    "text = \"ginger garlic\"\n",
    "print(text.capitalize())"
   ]
  },
  {
   "cell_type": "code",
   "execution_count": 15,
   "id": "f4766244",
   "metadata": {},
   "outputs": [
    {
     "name": "stdout",
     "output_type": "stream",
     "text": [
      "Python Is Fun\n"
     ]
    }
   ],
   "source": [
    "line = \"python is fun\"\n",
    "print(line.title())\n"
   ]
  },
  {
   "cell_type": "code",
   "execution_count": 16,
   "id": "1cafb710",
   "metadata": {},
   "outputs": [
    {
     "name": "stdout",
     "output_type": "stream",
     "text": [
      "hello word\n"
     ]
    }
   ],
   "source": [
    "# string()- extra spaces hata deta hai\n",
    "msg = \"hello word\"\n",
    "print(msg.strip())"
   ]
  },
  {
   "cell_type": "code",
   "execution_count": 17,
   "id": "ec308176",
   "metadata": {},
   "outputs": [
    {
     "name": "stdout",
     "output_type": "stream",
     "text": [
      "man\n"
     ]
    }
   ],
   "source": [
    "# replace() - \n",
    "day = \"mon\"\n",
    "print(day.replace(\"o\", \"a\"))"
   ]
  },
  {
   "cell_type": "code",
   "execution_count": 18,
   "id": "4bac0bb3",
   "metadata": {},
   "outputs": [
    {
     "name": "stdout",
     "output_type": "stream",
     "text": [
      "2\n"
     ]
    }
   ],
   "source": [
    "# count\n",
    "word = \"asad\"\n",
    "print(word.count(\"a\"))"
   ]
  },
  {
   "cell_type": "code",
   "execution_count": 19,
   "id": "4b3711f8",
   "metadata": {},
   "outputs": [
    {
     "name": "stdout",
     "output_type": "stream",
     "text": [
      "7\n"
     ]
    }
   ],
   "source": [
    "#find()\n",
    "sentence = \"python is a programmimng language\"\n",
    "print(sentence.find(\"is\"))"
   ]
  },
  {
   "cell_type": "code",
   "execution_count": 20,
   "id": "41a4593f",
   "metadata": {},
   "outputs": [
    {
     "name": "stdout",
     "output_type": "stream",
     "text": [
      "False\n"
     ]
    }
   ],
   "source": [
    "#start swith()\n",
    "name = \"Akshita\"\n",
    "print(name.startswith(\"e\"))"
   ]
  },
  {
   "cell_type": "code",
   "execution_count": 21,
   "id": "3f3f8ab7",
   "metadata": {},
   "outputs": [
    {
     "name": "stdout",
     "output_type": "stream",
     "text": [
      "False\n"
     ]
    }
   ],
   "source": [
    "# endswith\n",
    "print(name.endswith(\"i\"))"
   ]
  },
  {
   "cell_type": "code",
   "execution_count": 22,
   "id": "70a80274",
   "metadata": {},
   "outputs": [
    {
     "name": "stdout",
     "output_type": "stream",
     "text": [
      "['python', 'is', 'fun']\n"
     ]
    }
   ],
   "source": [
    "# split()\n",
    "sentence = \"python is fun\"\n",
    "print(sentence.split())"
   ]
  },
  {
   "cell_type": "code",
   "execution_count": 23,
   "id": "eedb369b",
   "metadata": {},
   "outputs": [
    {
     "name": "stdout",
     "output_type": "stream",
     "text": [
      "ana\n"
     ]
    }
   ],
   "source": [
    "#slicing String\n",
    "text = \"Banana\"\n",
    "print(text[1:4])"
   ]
  },
  {
   "cell_type": "code",
   "execution_count": 24,
   "id": "c5bc125e",
   "metadata": {},
   "outputs": [
    {
     "name": "stdout",
     "output_type": "stream",
     "text": [
      "hihihi\n"
     ]
    }
   ],
   "source": [
    "#String repetition\n",
    "word = \"hi\"\n",
    "print(word * 3)"
   ]
  },
  {
   "cell_type": "code",
   "execution_count": 25,
   "id": "59ff1669",
   "metadata": {},
   "outputs": [
    {
     "name": "stdout",
     "output_type": "stream",
     "text": [
      "True\n",
      "True\n",
      "False\n"
     ]
    }
   ],
   "source": [
    "# check substring(in/not in)\n",
    "text = \"i know python\"\n",
    "print(\"know\" in text)\n",
    "print(\"java\" not in text)\n",
    "print(\"c++\" in text)"
   ]
  },
  {
   "cell_type": "code",
   "execution_count": 26,
   "id": "12907c43",
   "metadata": {},
   "outputs": [
    {
     "name": "stdout",
     "output_type": "stream",
     "text": [
      "Roses are red,\n",
      "violets are blue,\n"
     ]
    }
   ],
   "source": [
    "# multiline string\n",
    "poem = '''Roses are red,\n",
    "violets are blue,'''\n",
    "print(poem)"
   ]
  },
  {
   "cell_type": "code",
   "execution_count": 27,
   "id": "52c79f9b",
   "metadata": {},
   "outputs": [
    {
     "name": "stdout",
     "output_type": "stream",
     "text": [
      "A\n",
      "s\n",
      "a\n",
      "d\n",
      " \n",
      "k\n",
      "h\n",
      "a\n",
      "n\n"
     ]
    }
   ],
   "source": [
    "word = \"Asad khan\"\n",
    "for i in range(len(word)):\n",
    "    print(word[i])"
   ]
  },
  {
   "cell_type": "markdown",
   "id": "319ce39e",
   "metadata": {},
   "source": [
    "for letter i word\n",
    "yeh loop bolega har letter ko ek ek karke le aur print krye\n",
    "note\n",
    "python string ek sequence hoti hai, jise hum loop kar skt hai"
   ]
  },
  {
   "cell_type": "code",
   "execution_count": 28,
   "id": "55f7a523",
   "metadata": {},
   "outputs": [
    {
     "name": "stdout",
     "output_type": "stream",
     "text": [
      "index0:c\n",
      "index1:a\n",
      "index2:t\n"
     ]
    }
   ],
   "source": [
    "text = \"cat\"\n",
    "for i in range(len(text)):\n",
    "    print(f\"index{i}:{text[i]}\")"
   ]
  }
 ],
 "metadata": {
  "kernelspec": {
   "display_name": "Python 3",
   "language": "python",
   "name": "python3"
  },
  "language_info": {
   "codemirror_mode": {
    "name": "ipython",
    "version": 3
   },
   "file_extension": ".py",
   "mimetype": "text/x-python",
   "name": "python",
   "nbconvert_exporter": "python",
   "pygments_lexer": "ipython3",
   "version": "3.13.3"
  }
 },
 "nbformat": 4,
 "nbformat_minor": 5
}
