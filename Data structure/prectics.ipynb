{
 "cells": [
  {
   "cell_type": "code",
   "execution_count": 1,
   "id": "49ca4f77",
   "metadata": {},
   "outputs": [
    {
     "name": "stdout",
     "output_type": "stream",
     "text": [
      "asad\n"
     ]
    }
   ],
   "source": [
    "name = (input(\"Enter your name\"))\n",
    "print(name)"
   ]
  },
  {
   "cell_type": "code",
   "execution_count": 2,
   "id": "841db3a4",
   "metadata": {},
   "outputs": [
    {
     "name": "stdout",
     "output_type": "stream",
     "text": [
      "a\n",
      "d\n"
     ]
    }
   ],
   "source": [
    "text = \"asad\"\n",
    "print(text[0])\n",
    "print(text[3])\n"
   ]
  },
  {
   "cell_type": "code",
   "execution_count": 3,
   "id": "4319d1f3",
   "metadata": {},
   "outputs": [
    {
     "name": "stdout",
     "output_type": "stream",
     "text": [
      "9\n"
     ]
    }
   ],
   "source": [
    "msg = \"asad khan\"\n",
    "print(len(msg))"
   ]
  },
  {
   "cell_type": "code",
   "execution_count": 4,
   "id": "7c17e127",
   "metadata": {},
   "outputs": [
    {
     "name": "stdout",
     "output_type": "stream",
     "text": [
      "asad khan\n"
     ]
    }
   ],
   "source": [
    "frist = \"asad\"\n",
    "second = \"khan\"\n",
    "print(frist +\" \" + second)"
   ]
  },
  {
   "cell_type": "code",
   "execution_count": 1,
   "id": "7c9d22b0",
   "metadata": {},
   "outputs": [
    {
     "name": "stdout",
     "output_type": "stream",
     "text": [
      "HELLO\n"
     ]
    }
   ],
   "source": [
    "name = \"hello\"\n",
    "print(name.upper())"
   ]
  },
  {
   "cell_type": "code",
   "execution_count": null,
   "id": "26406206",
   "metadata": {},
   "outputs": [
    {
     "name": "stdout",
     "output_type": "stream",
     "text": [
      "h\n"
     ]
    }
   ],
   "source": [
    "# Q- 6\n",
    "text = \"school\"\n",
    "print(text[2])\n"
   ]
  },
  {
   "cell_type": "code",
   "execution_count": 8,
   "id": "5daee3da",
   "metadata": {},
   "outputs": [
    {
     "name": "stdout",
     "output_type": "stream",
     "text": [
      "3\n"
     ]
    }
   ],
   "source": [
    "# Q - 7\n",
    "text = \"banana\"\n",
    "print(text.count(\"a\"))"
   ]
  },
  {
   "cell_type": "code",
   "execution_count": 9,
   "id": "8728e055",
   "metadata": {},
   "outputs": [
    {
     "name": "stdout",
     "output_type": "stream",
     "text": [
      "4\n"
     ]
    }
   ],
   "source": [
    "# Q - 8\n",
    "text = \"python is a programming language\"\n",
    "print(text.count(\"a\"))"
   ]
  },
  {
   "cell_type": "code",
   "execution_count": 11,
   "id": "ad422c40",
   "metadata": {},
   "outputs": [
    {
     "name": "stdout",
     "output_type": "stream",
     "text": [
      "['banana', 'apple', 'cherry', 'banana', 'apple', 'cherry', 'banana', 'apple', 'cherry']\n"
     ]
    }
   ],
   "source": [
    "# Q - 9\n",
    "fruit = [\"banana\",\"apple\",\"cherry\"]\n",
    "print(fruit*3)"
   ]
  },
  {
   "cell_type": "code",
   "execution_count": 12,
   "id": "f28ff21d",
   "metadata": {},
   "outputs": [
    {
     "name": "stdout",
     "output_type": "stream",
     "text": [
      "['python', 'is', 'fun']\n"
     ]
    }
   ],
   "source": [
    "# Q - 10\n",
    "text = \"python is fun\"\n",
    "print(text.split())"
   ]
  },
  {
   "cell_type": "code",
   "execution_count": 15,
   "id": "358e9fc8",
   "metadata": {},
   "outputs": [
    {
     "name": "stdout",
     "output_type": "stream",
     "text": [
      "gram\n"
     ]
    }
   ],
   "source": [
    "# Q - 11\n",
    "word = \"Programming\"\n",
    "print(word[3:7])"
   ]
  },
  {
   "cell_type": "code",
   "execution_count": 32,
   "id": "d558f22c",
   "metadata": {},
   "outputs": [
    {
     "name": "stdout",
     "output_type": "stream",
     "text": [
      "atihskA\n"
     ]
    }
   ],
   "source": [
    "# Q - 12\n",
    "name = \"Akshita\"\n",
    "print(name[:: -1])"
   ]
  },
  {
   "cell_type": "code",
   "execution_count": 8,
   "id": "c3cbe04e",
   "metadata": {},
   "outputs": [
    {
     "name": "stdout",
     "output_type": "stream",
     "text": [
      "Good evening\n"
     ]
    }
   ],
   "source": [
    "# Q - 13\n",
    "text= \"Good morning\"\n",
    "print(text.replace(\"morning\",\"evening\"))"
   ]
  },
  {
   "cell_type": "code",
   "execution_count": 10,
   "id": "06d15613",
   "metadata": {},
   "outputs": [
    {
     "name": "stdout",
     "output_type": "stream",
     "text": [
      "False\n"
     ]
    }
   ],
   "source": [
    "# Q - 14\n",
    "text = \"HELLo\"\n",
    "print(text.isupper())"
   ]
  },
  {
   "cell_type": "code",
   "execution_count": 13,
   "id": "664e217c",
   "metadata": {},
   "outputs": [
    {
     "name": "stdout",
     "output_type": "stream",
     "text": [
      "vowels\n"
     ]
    }
   ],
   "source": [
    "# Q - 15\n",
    "char = input(\"Enter a charecter\")\n",
    "if char == \"a\" or char == \"e\" or char == \"i\" or char ==\"o\" or char == \"u\" or char == \"A\" or char == \"E\" or char == \"I\" or char ==\"O\" or char == \"U\":\n",
    "    print('vowels')\n",
    "else:\n",
    "    print('console')"
   ]
  },
  {
   "cell_type": "code",
   "execution_count": 33,
   "id": "0173790d",
   "metadata": {},
   "outputs": [
    {
     "name": "stdout",
     "output_type": "stream",
     "text": [
      "['e', 'u', 'a', 'i', 'o']\n"
     ]
    }
   ],
   "source": [
    "# Q - 16\n",
    "word = \"education\"\n",
    "v = 'aeiouAEIOU'\n",
    "vowels = [i for i in word if i in v]\n",
    "print(vowels)\n"
   ]
  },
  {
   "cell_type": "code",
   "execution_count": null,
   "id": "9c7ac9bf",
   "metadata": {},
   "outputs": [
    {
     "name": "stdout",
     "output_type": "stream",
     "text": [
      "learnpython\n"
     ]
    }
   ],
   "source": [
    "# Q - 17\n",
    "word1 = \"learn\"\n",
    "word2 = \"python\"\n",
    "combine_word = word1+\"\"+word2\n",
    "print(combine_word)"
   ]
  },
  {
   "cell_type": "code",
   "execution_count": 42,
   "id": "cbfeda51",
   "metadata": {},
   "outputs": [
    {
     "name": "stdout",
     "output_type": "stream",
     "text": [
      "valid\n"
     ]
    }
   ],
   "source": [
    "# Q - 18\n",
    "word = \"apple\"\n",
    "if word.startswith(\"a\") and word.endswith(\"e\"):\n",
    "    print(\"valid\")"
   ]
  },
  {
   "cell_type": "code",
   "execution_count": null,
   "id": "4a3a9963",
   "metadata": {},
   "outputs": [
    {
     "name": "stdout",
     "output_type": "stream",
     "text": [
      "Hello World\n",
      "Welcome to Python\n",
      "Have a nice day\n",
      "PYHTON\n",
      "IS\n",
      "FUN\n"
     ]
    }
   ],
   "source": [
    "# Q - 19 Split a 3-line string using .splitlines() and print each line\n",
    "three_line_string  = \"Hello World\\nWelcome to Python\\nHave a nice day\"\n",
    "lines = three_line_string.splitlines()\n",
    "for line in lines:\n",
    "    print(line)\n",
    "\n",
    "# Q- 20 Input a sentence and print each word on a new line using loop\n",
    "sentence = input(\"Enter a sentence: \")\n",
    "for word in sentence.split():\n",
    "    print(word)"
   ]
  },
  {
   "cell_type": "code",
   "execution_count": 7,
   "id": "f96e22ad",
   "metadata": {},
   "outputs": [
    {
     "name": "stdout",
     "output_type": "stream",
     "text": [
      "[16, 16, 36, 4, 25]\n"
     ]
    }
   ],
   "source": [
    "numbers = [int(input(\"Enter a number: \")) for _ in range(5)]\n",
    "squared_numbers = [n**2 for n in numbers]\n",
    "print(squared_numbers)\n"
   ]
  },
  {
   "cell_type": "code",
   "execution_count": 4,
   "id": "05a43e78",
   "metadata": {},
   "outputs": [
    {
     "name": "stdout",
     "output_type": "stream",
     "text": [
      "[1]\n",
      "[1, 4]\n",
      "[1, 4, 9]\n",
      "[1, 4, 9, 16]\n",
      "[1, 4, 9, 16, 25]\n"
     ]
    }
   ],
   "source": [
    "lst = [1, 2, 3, 4, 5]\n",
    "sqr = []\n",
    "for num in lst:\n",
    "    sqr.append(num**2)\n",
    "    print(sqr)"
   ]
  },
  {
   "cell_type": "code",
   "execution_count": 6,
   "id": "34c5cfd7",
   "metadata": {},
   "outputs": [
    {
     "data": {
      "text/plain": [
       "[1, 4, 9, 16, 25]"
      ]
     },
     "execution_count": 6,
     "metadata": {},
     "output_type": "execute_result"
    }
   ],
   "source": [
    "def squared_list(number):\n",
    "    sqr = []\n",
    "    for num in number:\n",
    "        sqr.append(num**2)\n",
    "    return sqr\n",
    "squared_list([1, 2, 3, 4, 5]) # Example usage"
   ]
  },
  {
   "cell_type": "code",
   "execution_count": 18,
   "id": "305791cb",
   "metadata": {},
   "outputs": [
    {
     "name": "stdout",
     "output_type": "stream",
     "text": [
      "[2, 4, 6, 8]\n"
     ]
    }
   ],
   "source": [
    "# Take 10 numbers as input and return a new list with only even numbers\n",
    "numbers_10 = [int(input(\"Enter a number: \")) for _ in range(10)]\n",
    "even_numbers = [n for n in numbers_10 if n % 2 == 0]\n",
    "print(even_numbers)"
   ]
  },
  {
   "cell_type": "code",
   "execution_count": 20,
   "id": "6b9e5a83",
   "metadata": {},
   "outputs": [
    {
     "name": "stdout",
     "output_type": "stream",
     "text": [
      "2023 is not a leap year\n"
     ]
    }
   ],
   "source": [
    "year = int(input(\"Enter a year: \"))\n",
    "if (year % 4 == 0 and year % 100 != 0) or (year % 400 == 0):\n",
    "    print(f\"{year} is a leap year\")\n",
    "else:\n",
    "    print(f\"{year} is not a leap year\")"
   ]
  },
  {
   "cell_type": "code",
   "execution_count": 21,
   "id": "a7e80afb",
   "metadata": {},
   "outputs": [
    {
     "name": "stdout",
     "output_type": "stream",
     "text": [
      "20000.0\n"
     ]
    }
   ],
   "source": [
    "result = 200000 * 0.10\n",
    "print(result)"
   ]
  },
  {
   "cell_type": "code",
   "execution_count": 3,
   "id": "07e5ebd4",
   "metadata": {},
   "outputs": [
    {
     "name": "stdout",
     "output_type": "stream",
     "text": [
      "0.30000000000000004\n"
     ]
    }
   ],
   "source": [
    "a = 0.1\n",
    "b = 0.2\n",
    "print(a + b)"
   ]
  }
 ],
 "metadata": {
  "kernelspec": {
   "display_name": "Python 3",
   "language": "python",
   "name": "python3"
  },
  "language_info": {
   "codemirror_mode": {
    "name": "ipython",
    "version": 3
   },
   "file_extension": ".py",
   "mimetype": "text/x-python",
   "name": "python",
   "nbconvert_exporter": "python",
   "pygments_lexer": "ipython3",
   "version": "3.13.3"
  }
 },
 "nbformat": 4,
 "nbformat_minor": 5
}
