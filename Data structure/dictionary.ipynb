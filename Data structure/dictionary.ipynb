{
 "cells": [
  {
   "cell_type": "code",
   "execution_count": 1,
   "id": "b56c36d9",
   "metadata": {},
   "outputs": [
    {
     "name": "stdout",
     "output_type": "stream",
     "text": [
      "{'name': 'asad', 'age': 24, 'city': 'sultanpur', 'course': 'data science '}\n"
     ]
    }
   ],
   "source": [
    "info = dict(name = 'asad', age = 24, city = 'sultanpur', course ='data science ')\n",
    "print(info)"
   ]
  },
  {
   "cell_type": "code",
   "execution_count": 2,
   "id": "c64c553c",
   "metadata": {},
   "outputs": [
    {
     "name": "stdout",
     "output_type": "stream",
     "text": [
      "{'lucknow': [25, 30, 35], 'delhi': [35, 40, 45], 'mumbai': [28, 30, 34], 'chennai': [30, 32, 34]}\n"
     ]
    }
   ],
   "source": [
    "temp = {\n",
    "    'lucknow':[25,30,35],\n",
    "    'delhi':[35,40,45],\n",
    "    'mumbai':[28,30,34],\n",
    "    'chennai':[30,32,34],\n",
    "}\n",
    "print(temp)"
   ]
  },
  {
   "cell_type": "code",
   "execution_count": 3,
   "id": "41a9773b",
   "metadata": {},
   "outputs": [
    {
     "name": "stdout",
     "output_type": "stream",
     "text": [
      "<built-in function sum>\n"
     ]
    }
   ],
   "source": [
    "sum(temp['delhi'])/len(['delhi'])\n",
    "print(sum)\n"
   ]
  },
  {
   "cell_type": "code",
   "execution_count": 4,
   "id": "c0169fd8",
   "metadata": {},
   "outputs": [
    {
     "name": "stdout",
     "output_type": "stream",
     "text": [
      "{'name': 'asad', 'age': 20, 'city': 'sultanpur'}\n"
     ]
    }
   ],
   "source": [
    "# access key-value pair\n",
    "student = {\n",
    "    'name' : 'asad',\n",
    "    'age' : 20,\n",
    "    'city' : 'sultanpur'\n",
    "}\n",
    "print(student)\n"
   ]
  },
  {
   "cell_type": "code",
   "execution_count": 5,
   "id": "c5323426",
   "metadata": {},
   "outputs": [
    {
     "name": "stdout",
     "output_type": "stream",
     "text": [
      "asad\n",
      "sultanpur\n"
     ]
    }
   ],
   "source": [
    "#access key value pair\n",
    "print(student['name'])\n",
    "print(student['city'])"
   ]
  },
  {
   "cell_type": "code",
   "execution_count": 6,
   "id": "ddaf365e",
   "metadata": {},
   "outputs": [
    {
     "data": {
      "text/plain": [
       "'asad'"
      ]
     },
     "execution_count": 6,
     "metadata": {},
     "output_type": "execute_result"
    }
   ],
   "source": [
    "# 2nd method to access key-value pair\n",
    "student.get('city')\n",
    "student.get('name')"
   ]
  },
  {
   "cell_type": "code",
   "execution_count": 7,
   "id": "0837aa15",
   "metadata": {},
   "outputs": [
    {
     "name": "stdout",
     "output_type": "stream",
     "text": [
      "dict_keys(['name', 'age', 'city'])\n",
      "dict_values(['asad', 20, 'sultanpur'])\n",
      "dict_items([('name', 'asad'), ('age', 20), ('city', 'sultanpur')])\n"
     ]
    }
   ],
   "source": [
    "print(student.keys())\n",
    "print(student.values())\n",
    "print(student.items())"
   ]
  },
  {
   "cell_type": "code",
   "execution_count": 8,
   "id": "da1d8c8e",
   "metadata": {},
   "outputs": [
    {
     "name": "stdout",
     "output_type": "stream",
     "text": [
      "name\n",
      "age\n",
      "city\n"
     ]
    }
   ],
   "source": [
    "for k in student:\n",
    "    print(k)"
   ]
  },
  {
   "cell_type": "code",
   "execution_count": 9,
   "id": "63ec0b60",
   "metadata": {},
   "outputs": [
    {
     "name": "stdout",
     "output_type": "stream",
     "text": [
      "name:asad\n",
      "age:20\n",
      "city:sultanpur\n"
     ]
    }
   ],
   "source": [
    "for k,v in student.items():\n",
    "    print(f\"{k}:{v}\")"
   ]
  },
  {
   "cell_type": "code",
   "execution_count": 10,
   "id": "74f7df94",
   "metadata": {},
   "outputs": [
    {
     "name": "stdout",
     "output_type": "stream",
     "text": [
      "sum is 15\n",
      "sum of  10 and 5 is 15\n",
      "sum of10 and 5 is 15\n"
     ]
    }
   ],
   "source": [
    "a = 10\n",
    "b = 5\n",
    "sum = a + b\n",
    "print(\"sum is\",sum)\n",
    "print(\"sum of \",a,\"and\",b, \"is\",sum)\n",
    "print(f\"sum of{a} and {b} is {sum}\")"
   ]
  },
  {
   "cell_type": "code",
   "execution_count": 11,
   "id": "08b13641",
   "metadata": {},
   "outputs": [],
   "source": [
    "# to add a new key value pair\n",
    "student['grade'] = 'A'"
   ]
  },
  {
   "cell_type": "code",
   "execution_count": 12,
   "id": "2faec1f4",
   "metadata": {},
   "outputs": [
    {
     "name": "stdout",
     "output_type": "stream",
     "text": [
      "{'name': 'asad', 'age': 20, 'city': 'sultanpur', 'grade': 'A'}\n"
     ]
    }
   ],
   "source": [
    "print (student)"
   ]
  },
  {
   "cell_type": "code",
   "execution_count": 13,
   "id": "63e62ee6",
   "metadata": {},
   "outputs": [],
   "source": [
    "student['number'] = '8090424919'"
   ]
  },
  {
   "cell_type": "code",
   "execution_count": 14,
   "id": "6368dbd5",
   "metadata": {},
   "outputs": [
    {
     "name": "stdout",
     "output_type": "stream",
     "text": [
      "{'name': 'asad', 'age': 20, 'city': 'sultanpur', 'grade': 'A', 'number': '8090424919'}\n"
     ]
    }
   ],
   "source": [
    "print(student)"
   ]
  },
  {
   "cell_type": "code",
   "execution_count": 15,
   "id": "ecdb1432",
   "metadata": {},
   "outputs": [
    {
     "name": "stdout",
     "output_type": "stream",
     "text": [
      "{'name': 'asad', 'age': 20, 'grade': 'A', 'number': '8090424919'}\n"
     ]
    }
   ],
   "source": [
    "# remove a key-value pair method(pop)\n",
    "student.pop('city',None) # using none to avoid keyerror if 'city' dose not exist\n",
    "print(student)"
   ]
  },
  {
   "cell_type": "code",
   "execution_count": 16,
   "id": "a9c2a912",
   "metadata": {},
   "outputs": [
    {
     "name": "stdout",
     "output_type": "stream",
     "text": [
      "{'name': 'asad', 'age': 20, 'grade': 'A', 'number': '8090424919'}\n"
     ]
    }
   ],
   "source": [
    "student.pop(\"father's name\",None)\n",
    "print(student)"
   ]
  },
  {
   "cell_type": "code",
   "execution_count": 17,
   "id": "c51f9f17",
   "metadata": {},
   "outputs": [
    {
     "name": "stdout",
     "output_type": "stream",
     "text": [
      "{'name': 'asad', 'age': 24, 'grade': 'A', 'number': '8090424919'}\n"
     ]
    }
   ],
   "source": [
    "# TO UPDATE AN EXISTING KEY - VALUE PAIR\n",
    "student['age']=24\n",
    "print(student)"
   ]
  },
  {
   "cell_type": "code",
   "execution_count": 18,
   "id": "4e9f8d36",
   "metadata": {},
   "outputs": [
    {
     "name": "stdout",
     "output_type": "stream",
     "text": [
      "{'emp001': {'name': 'asad', 'age': 24, 'dipartment': 'HR', 'salary': 60000}, 'emp002': {'name': 'bob', 'age': 25, 'department': 'IT', 'salary': 70000}, 'emp003': {'name': 'charlie', 'age': 35, 'department': 'finance', 'salary': 80000}}\n"
     ]
    }
   ],
   "source": [
    "# Nested dictionsry\n",
    "company = {\n",
    "    'emp001' :{\n",
    "        'name' :'asad',\n",
    "        'age' : 24,\n",
    "        'dipartment' : 'HR',\n",
    "        'salary' : 60000\n",
    "    },\n",
    "    'emp002' :{\n",
    "        'name' : 'bob',\n",
    "    'age': 25,\n",
    "    'department': 'IT',\n",
    "    'salary': 70000\n",
    "    },\n",
    "    'emp003':{\n",
    "        'name' :'charlie',\n",
    "        'age' : 35,\n",
    "        'department' : 'finance',\n",
    "        'salary' : 80000\n",
    "    }\n",
    "}\n",
    "print(company)"
   ]
  },
  {
   "cell_type": "code",
   "execution_count": 19,
   "id": "526d806c",
   "metadata": {},
   "outputs": [],
   "source": [
    "#import pprint as pprint\n",
    "from pprint import pprint"
   ]
  },
  {
   "cell_type": "code",
   "execution_count": 20,
   "id": "5dcaa8a9",
   "metadata": {},
   "outputs": [
    {
     "name": "stdout",
     "output_type": "stream",
     "text": [
      "{'emp001': {'age': 24, 'dipartment': 'HR', 'name': 'asad', 'salary': 60000},\n",
      " 'emp002': {'age': 25, 'department': 'IT', 'name': 'bob', 'salary': 70000},\n",
      " 'emp003': {'age': 35,\n",
      "            'department': 'finance',\n",
      "            'name': 'charlie',\n",
      "            'salary': 80000}}\n"
     ]
    }
   ],
   "source": [
    "pprint(company)"
   ]
  },
  {
   "cell_type": "code",
   "execution_count": 21,
   "id": "aa9ac099",
   "metadata": {},
   "outputs": [
    {
     "data": {
      "text/plain": [
       "70000"
      ]
     },
     "execution_count": 21,
     "metadata": {},
     "output_type": "execute_result"
    }
   ],
   "source": [
    "company['emp002']['salary']"
   ]
  }
 ],
 "metadata": {
  "kernelspec": {
   "display_name": "Python 3",
   "language": "python",
   "name": "python3"
  },
  "language_info": {
   "codemirror_mode": {
    "name": "ipython",
    "version": 3
   },
   "file_extension": ".py",
   "mimetype": "text/x-python",
   "name": "python",
   "nbconvert_exporter": "python",
   "pygments_lexer": "ipython3",
   "version": "3.13.3"
  }
 },
 "nbformat": 4,
 "nbformat_minor": 5
}
